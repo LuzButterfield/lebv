{
  "nbformat": 4,
  "nbformat_minor": 0,
  "metadata": {
    "colab": {
      "provenance": [],
      "include_colab_link": true
    },
    "kernelspec": {
      "name": "python3",
      "display_name": "Python 3"
    },
    "language_info": {
      "name": "python"
    }
  },
  "cells": [
    {
      "cell_type": "markdown",
      "metadata": {
        "id": "view-in-github",
        "colab_type": "text"
      },
      "source": [
        "<a href=\"https://colab.research.google.com/github/LuzButterfield/lebv/blob/main/Luz_BUTTERFIELD_VELAZQUEZ_Unidad2_Python_sin_CdConstituci%C3%B3n.ipynb\" target=\"_parent\"><img src=\"https://colab.research.google.com/assets/colab-badge.svg\" alt=\"Open In Colab\"/></a>"
      ]
    },
    {
      "cell_type": "markdown",
      "source": [
        "\n",
        "# ***PROGRAMACIÓN PYTHON***\n",
        "\n",
        "---\n",
        "\n",
        "\n",
        "\n"
      ],
      "metadata": {
        "id": "hvOSDIk18k-O"
      }
    },
    {
      "cell_type": "markdown",
      "source": [
        "# **UNIDAD 2 - Lazos e iteraciones.**\n",
        "\n",
        "---\n",
        "## Ejecución condicional: if, elif y else.\n",
        "\n",
        "Como en cualquier lenguaje de programación, las estructuras de control en Python permiten cambiar el flujo de ejecución de los programas.\n",
        "\n",
        "La palabra reservada *if* permite direccionar el flujo de ejecución\n",
        "del programa dependiendo de que alguna condición puede ser\n",
        "verdadera o falsa.\n",
        "\n",
        "La sintaxis es la siguiente: \n",
        "\n",
        "**if** *condición*:\n",
        "\n",
        "> *acción1*\n",
        "\n",
        "> *accion2*\n",
        "\n",
        "> ...\n",
        "\n",
        "> *accionM*\n",
        "\n",
        "\n",
        "Como ejemplo práctico, hay que realizar un programa que resuelva ecuaciones de primer grado.\n"
      ],
      "metadata": {
        "id": "ORKz6k_BKrNv"
      }
    },
    {
      "cell_type": "code",
      "execution_count": 5,
      "metadata": {
        "id": "d0NP7wrbKqe-",
        "colab": {
          "base_uri": "https://localhost:8080/"
        },
        "outputId": "e913ce0b-1a8e-4905-b971-57325a1ce830"
      },
      "outputs": [
        {
          "output_type": "stream",
          "name": "stdout",
          "text": [
            "¡Hola! Vamos a resolver una ecuación de segundo grado:\n",
            "    ax² + bx + c = 0\n",
            "\n",
            "Dame el coeficiente a: 2\n",
            "Dame el coeficiente b: 3\n",
            "Dame el coeficiente c: 4\n",
            "La ecuación no tiene soluciones reales.\n"
          ]
        }
      ],
      "source": [
        "#! /usr/bin/python\n",
        "from math import sqrt\n",
        "\n",
        "# mostramos un mensaje de bienvenida\n",
        "print('¡Hola! Vamos a resolver una ecuación de segundo grado:')\n",
        "print('    ax² + bx + c = 0\\n')\n",
        "\n",
        "# pedimos los coeficientes al usuario\n",
        "a, b, c = [float(input(f'Dame el coeficiente {coef}: ')) for coef in ('a', 'b', 'c')]\n",
        "\n",
        "# calculamos el discriminante\n",
        "discriminante =  b * b - 4 * a * c\n",
        "\n",
        "if discriminante < 0: # comprobamos si no existen soluciones reales\n",
        "    print(f'La ecuación no tiene soluciones reales.')\n",
        "else:\n",
        "    raiz = sqrt(discriminante)      # calculamos la raíz\n",
        "    x_1 = (-b + raiz) / (2 * a)     # calculamos una primera solución\n",
        "    if discriminante != 0:          # comprobamos si hay otra solución\n",
        "        x_2 = (-b - raiz) / (2 * a) # calculamos la segunda solución\n",
        "        print(f'Las soluciones son {x_1} y {x_2}.') # mostramos las dos soluciones\n",
        "    else:\n",
        "        print(f'La única solución es x = {x_1}') # mostramos la única solución\n",
        "\n"
      ]
    },
    {
      "cell_type": "markdown",
      "source": [
        "Para corregirlo se añadirán condiciones if para evaluar las posibles condiciones en las que puede incurrir el código. Probarlo con valores positivos, negativos, a en cero y b en cero.\n",
        "\n",
        "**NOTA:** Observe las tabulaciones que están dentro de las condiciones if."
      ],
      "metadata": {
        "id": "hy7HGVaNSNjK"
      }
    },
    {
      "cell_type": "code",
      "source": [
        "numero = int(input(\"Escriba un número positivo: \"))\n",
        "if numero < 0:\n",
        "    print(\"¡Le he dicho que escriba un número positivo!\")\n",
        "print(f\"Ha escrito el número {numero}\")"
      ],
      "metadata": {
        "id": "D6SDFtRcTQSQ",
        "colab": {
          "base_uri": "https://localhost:8080/"
        },
        "outputId": "9a75f57e-f9fe-48c6-d8ee-9e3504fba70a"
      },
      "execution_count": 6,
      "outputs": [
        {
          "output_type": "stream",
          "name": "stdout",
          "text": [
            "Escriba un número positivo: 2\n",
            "Ha escrito el número 2\n"
          ]
        }
      ]
    },
    {
      "cell_type": "markdown",
      "source": [
        "Si es necesario ejecutar acciones distintas cuando la evaluación\n",
        "de la condición sea verdadera o falsa. Se puede utilizar la\n",
        "palabra reservada *else*."
      ],
      "metadata": {
        "id": "2mnjA_BqUEk0"
      }
    },
    {
      "cell_type": "code",
      "source": [
        "edad = int(input(\"¿Cuántos años tiene? \"))\n",
        "if edad < 18:\n",
        "    print(\"Es usted menor de edad\")\n",
        "else:\n",
        "    print(\"Es usted mayor de edad\")\n",
        "print(\"¡Hasta la próxima!\")"
      ],
      "metadata": {
        "id": "6wMkQwXTUL_G",
        "colab": {
          "base_uri": "https://localhost:8080/"
        },
        "outputId": "04c9d04c-9a81-4209-96c9-5c1209eeecaf"
      },
      "execution_count": 7,
      "outputs": [
        {
          "output_type": "stream",
          "name": "stdout",
          "text": [
            "¿Cuántos años tiene? 18\n",
            "Es usted mayor de edad\n",
            "¡Hasta la próxima!\n"
          ]
        }
      ]
    },
    {
      "cell_type": "markdown",
      "source": [
        "También es posible crear estructuras condicionales múltiples con la palabra reservada *elif*."
      ],
      "metadata": {
        "id": "h_4aurGKUbtr"
      }
    },
    {
      "cell_type": "code",
      "source": [
        "edad = int(input(\"¿Cuántos años tiene? \"))\n",
        "if edad < 0:\n",
        "    print(\"No se puede tener una edad negativa\")\n",
        "elif edad >= 0 and edad < 18:\n",
        "    print(\"Es usted menor de edad\")\n",
        "else:\n",
        "    print(\"Es usted mayor de edad\")"
      ],
      "metadata": {
        "id": "z0V18wuzU-1e",
        "colab": {
          "base_uri": "https://localhost:8080/"
        },
        "outputId": "60072506-5787-4adf-cea4-b729cb1781af"
      },
      "execution_count": 8,
      "outputs": [
        {
          "output_type": "stream",
          "name": "stdout",
          "text": [
            "¿Cuántos años tiene? 85\n",
            "Es usted mayor de edad\n"
          ]
        }
      ]
    },
    {
      "cell_type": "markdown",
      "source": [
        "### Operador ternario.\n",
        "\n",
        "En Python existen también el operador ternario, se trata de una clúsula *if - else* que se define dentro de una sola línea, incluso puede ser utilizada dentro de un print(). La estructura es la siguiente:\n",
        "\n",
        "*`[código si se cumple] if [condición] else [código si no se cumple]`*\n",
        "\n"
      ],
      "metadata": {
        "id": "1gIUVTC7V1BT"
      }
    },
    {
      "cell_type": "code",
      "source": [
        "x = 43\n",
        "result = \"es la respuesta\" if x == 42  else \"le anduviste cerca\"\n",
        "\n",
        "result # contendrá  ‘le anduviste cerca’"
      ],
      "metadata": {
        "id": "THOK1ewLZqkL",
        "colab": {
          "base_uri": "https://localhost:8080/",
          "height": 35
        },
        "outputId": "6376a78e-237b-4b29-8c88-ccac624428aa"
      },
      "execution_count": 10,
      "outputs": [
        {
          "output_type": "execute_result",
          "data": {
            "text/plain": [
              "'le anduviste cerca'"
            ],
            "application/vnd.google.colaboratory.intrinsic+json": {
              "type": "string"
            }
          },
          "metadata": {},
          "execution_count": 10
        }
      ]
    },
    {
      "cell_type": "markdown",
      "source": [
        "También se puede utilizar para asignar valores a variables:"
      ],
      "metadata": {
        "id": "O3IIYOW5Z-ZP"
      }
    },
    {
      "cell_type": "code",
      "source": [
        "x = 43\n",
        "result = \"es la respuesta\" if x == 42  else \"le anduviste cerca\"\n",
        "\n",
        "result # contendrá  ‘le anduviste cerca’"
      ],
      "metadata": {
        "id": "nsx8LJRfaDY8",
        "colab": {
          "base_uri": "https://localhost:8080/",
          "height": 35
        },
        "outputId": "cb14d173-c971-43f0-b9a5-8798cd800434"
      },
      "execution_count": 11,
      "outputs": [
        {
          "output_type": "execute_result",
          "data": {
            "text/plain": [
              "'le anduviste cerca'"
            ],
            "application/vnd.google.colaboratory.intrinsic+json": {
              "type": "string"
            }
          },
          "metadata": {},
          "execution_count": 11
        }
      ]
    },
    {
      "cell_type": "markdown",
      "source": [
        "\n",
        "\n",
        "---\n",
        "\n",
        "\n",
        "## Iteraciones: while, for.\n",
        "\n",
        "\n",
        "### Ciclo for.\n",
        "\n",
        "Este ciclo se caracteriza por tener un número de iteraciones definido de antemano. No tiene un candición de paro , más bien contiene un *iterable* que define las veces que se ejecutará el código. El siguiente ejemplo representa un ciclo representa un contador:"
      ],
      "metadata": {
        "id": "h-uOUZdlbDRM"
      }
    },
    {
      "cell_type": "code",
      "source": [
        "print(\"Comienzo\")\n",
        "for i in [0, 1, 2]:\n",
        "    print(\"Hola \", end=\"\")\n",
        "print()\n",
        "print(\"Final\")"
      ],
      "metadata": {
        "id": "lp3beJGPonqH",
        "colab": {
          "base_uri": "https://localhost:8080/"
        },
        "outputId": "cb5bc654-7514-4864-ea8b-dd1307f539f2"
      },
      "execution_count": 12,
      "outputs": [
        {
          "output_type": "stream",
          "name": "stdout",
          "text": [
            "Comienzo\n",
            "Hola Hola Hola \n",
            "Final\n"
          ]
        }
      ]
    },
    {
      "cell_type": "markdown",
      "source": [
        "### Iterables e iteradores\n",
        "\n",
        "Los **iterables** son aquellos objetos que como su nombre indica pueden ser iterados, lo que dicho de otra forma es, que puedan ser indexados. Si piensas en una`list`, podemos indexarlo con `lista[1]` por ejemplo, por lo que sería un iterable. Algunos ejemplos son: listas, tuplas, cadenas o diccionarios.\n",
        "\n",
        "Los **iteradores** son objetos que hacen referencia a un elemento, y que tienen un método `next` que permite hacer referencia al siguiente.\n",
        "\n",
        "El ciclo for es capaz de recorrer los objetos iterables mediante la siguiente sintaxis:\n",
        "\n",
        "```\n",
        "for <variable> in <iterable>:\n",
        "    <Código>\n",
        "```\n",
        "\n",
        "Para saber si un objeto es iterable, se puede usar la función `isinstance()`:"
      ],
      "metadata": {
        "id": "8jVa4toCo-lK"
      }
    },
    {
      "cell_type": "code",
      "source": [
        "x = isinstance(5, int)\n",
        "print(x)"
      ],
      "metadata": {
        "id": "KCeQcbX1zorw",
        "colab": {
          "base_uri": "https://localhost:8080/"
        },
        "outputId": "8d2f0779-7ee6-4dfd-8453-31e062f74a84"
      },
      "execution_count": 14,
      "outputs": [
        {
          "output_type": "stream",
          "name": "stdout",
          "text": [
            "True\n"
          ]
        }
      ]
    },
    {
      "cell_type": "markdown",
      "source": [
        "La función `iter()` puede ser llamada desde un objeto que sea iterable y retorna un iterador, que es una variable que hace referencia al objeto iterable original y permite acceder a sus elementos con `next()`. Cuando coimienza, el iterador apunta afuera de la lista, y no hace referencia al primer elemento hasta que se llema a `next()` por primera vez."
      ],
      "metadata": {
        "id": "5GLAVL7x0qu7"
      }
    },
    {
      "cell_type": "code",
      "source": [
        "x = iter([\"manzana\", \"platano\", \"cereza\"])\n",
        "print(next(x))\n",
        "print(next(x))\n",
        "print(next(x))"
      ],
      "metadata": {
        "id": "QZjKMRJY1Q0F",
        "colab": {
          "base_uri": "https://localhost:8080/"
        },
        "outputId": "3e521e07-386f-4f92-fe4f-051d2d2334b5"
      },
      "execution_count": 16,
      "outputs": [
        {
          "output_type": "stream",
          "name": "stdout",
          "text": [
            "manzana\n",
            "platano\n",
            "cereza\n"
          ]
        }
      ]
    },
    {
      "cell_type": "markdown",
      "source": [],
      "metadata": {
        "id": "dkd1MPbkOOiH"
      }
    },
    {
      "cell_type": "markdown",
      "source": [
        "Existen iteradores para diferentes clases:\n",
        "\n",
        "`str_iterator` para cadenas.\n",
        "\n",
        "`list_iterator` para listas.\n",
        "\n",
        "`tuple_iterator` para tuplas.\n",
        "\n",
        "`set_iterator` para sets.\n",
        "\n",
        "`dict_keyiterator` para diccionarios.\n",
        "\n",
        "El ciclo for, como ya se mencionó anteriormente, permite recorrer objetos iterables, ejemplos:"
      ],
      "metadata": {
        "id": "OOaU_IcJ1frS"
      }
    },
    {
      "cell_type": "code",
      "source": [
        "for i in [0, 1, 2]:\n",
        "    for j in [0, 1]:\n",
        "        print(f\"i vale {i} y j vale {j}\")"
      ],
      "metadata": {
        "id": "Lk4xHnQb2or-",
        "colab": {
          "base_uri": "https://localhost:8080/"
        },
        "outputId": "337686f9-80ba-415f-faeb-91012849122a"
      },
      "execution_count": 17,
      "outputs": [
        {
          "output_type": "stream",
          "name": "stdout",
          "text": [
            "i vale 0 y j vale 0\n",
            "i vale 0 y j vale 1\n",
            "i vale 1 y j vale 0\n",
            "i vale 1 y j vale 1\n",
            "i vale 2 y j vale 0\n",
            "i vale 2 y j vale 1\n"
          ]
        }
      ]
    },
    {
      "cell_type": "code",
      "source": [],
      "metadata": {
        "id": "Q0KL4TAk22os"
      },
      "execution_count": null,
      "outputs": []
    },
    {
      "cell_type": "markdown",
      "source": [
        "La función `range()` genera una secuencia de números que van desde 0 por defecto hasta el número que se pasa como parámetro menos 1. En realidad, se pueden pasar hasta tres parámetros separados por coma, donde el primer es el inicio de la secuencia, el segundo el final y el tercero el salto que se desea entre números. Por defecto se empieza en 0 y el salto es de 1:\n",
        "\n",
        "`range(inicio, fin, salto)`"
      ],
      "metadata": {
        "id": "C72VB5o13Yq9"
      }
    },
    {
      "cell_type": "code",
      "source": [
        "for i in [1, 2, 3]:\n",
        "    for j in range(i):\n",
        "        print(f\"i vale {i} y j vale {j}\")"
      ],
      "metadata": {
        "id": "9Cs82QqR4aGe",
        "colab": {
          "base_uri": "https://localhost:8080/"
        },
        "outputId": "c3833395-748b-459a-d5a1-16f679c6f3c5"
      },
      "execution_count": 18,
      "outputs": [
        {
          "output_type": "stream",
          "name": "stdout",
          "text": [
            "i vale 1 y j vale 0\n",
            "i vale 2 y j vale 0\n",
            "i vale 2 y j vale 1\n",
            "i vale 3 y j vale 0\n",
            "i vale 3 y j vale 1\n",
            "i vale 3 y j vale 2\n"
          ]
        }
      ]
    },
    {
      "cell_type": "code",
      "source": [],
      "metadata": {
        "id": "bRq9nUcM4cQD"
      },
      "execution_count": null,
      "outputs": []
    },
    {
      "cell_type": "markdown",
      "source": [
        "Los ciclos `for` también pueden anidarse, como en cualquier lenguaje de programación:"
      ],
      "metadata": {
        "id": "SvTghbBV7QJZ"
      }
    },
    {
      "cell_type": "code",
      "source": [
        "for i in [1, 2, 3]:\n",
        "    for j in [11, 12]:\n",
        "        print(j, end=\" \")\n",
        "print(i, end=\" \")"
      ],
      "metadata": {
        "id": "id-E0OHJ7fuE",
        "colab": {
          "base_uri": "https://localhost:8080/"
        },
        "outputId": "59933cb2-6b21-47a2-faa6-b534eb44e8d4"
      },
      "execution_count": 19,
      "outputs": [
        {
          "output_type": "stream",
          "name": "stdout",
          "text": [
            "11 12 11 12 11 12 3 "
          ]
        }
      ]
    },
    {
      "cell_type": "markdown",
      "source": [
        "## Ciclo while\n",
        "\n",
        "EL ciclo while repetirá las sentencias dentro de él, mientras se cumpla la condición especificada."
      ],
      "metadata": {
        "id": "UzmhbaSt3M2H"
      }
    },
    {
      "cell_type": "code",
      "source": [
        "i = 1\n",
        "while i <= 3:\n",
        "    print(i)\n",
        "    i += 1\n",
        "print(\"Programa terminado\")"
      ],
      "metadata": {
        "id": "7QhxewRQ5QXr",
        "colab": {
          "base_uri": "https://localhost:8080/"
        },
        "outputId": "7a1be2b5-dda7-427b-cc7e-5dd6e6000556"
      },
      "execution_count": 20,
      "outputs": [
        {
          "output_type": "stream",
          "name": "stdout",
          "text": [
            "1\n",
            "2\n",
            "3\n",
            "Programa terminado\n"
          ]
        }
      ]
    },
    {
      "cell_type": "markdown",
      "source": [
        "También es posible escribir ciclos while en una sóla línea."
      ],
      "metadata": {
        "id": "is175SQ25my4"
      }
    },
    {
      "cell_type": "code",
      "source": [
        "i = 1\n",
        "while i < 6:\n",
        "  print(i)\n",
        "  i += 1"
      ],
      "metadata": {
        "id": "gSGf-US-5v51",
        "colab": {
          "base_uri": "https://localhost:8080/"
        },
        "outputId": "470d6fd6-e4b0-483a-b893-3c2eff44fea9"
      },
      "execution_count": 23,
      "outputs": [
        {
          "output_type": "stream",
          "name": "stdout",
          "text": [
            "1\n",
            "2\n",
            "3\n",
            "4\n",
            "5\n"
          ]
        }
      ]
    },
    {
      "cell_type": "markdown",
      "source": [
        "También permite recorrer algún elemento iterable mientras existan elementos en él, por ejemplo, una lista y en cada iteración se va eliminando un dato:\n",
        "\n",
        "https://www.codigopiton.com/\n",
        "\n",
        "https://pythondiario.com/2014/04/listas-en-python.html\n",
        "https://programminghistorian.org/es/lecciones/manipular-cadenas-de-caracteres-en-python#multiplicar\n",
        "https://www.mclibre.org/consultar/python/lecciones/python-elementos.html\n",
        "\n"
      ],
      "metadata": {
        "id": "zA1soQIf6Blf"
      }
    },
    {
      "cell_type": "code",
      "source": [],
      "metadata": {
        "id": "V8xuzrnH6OHq"
      },
      "execution_count": null,
      "outputs": []
    },
    {
      "cell_type": "markdown",
      "source": [
        "En Python, es posible mezclar la palabra reservada `else`, con el `while`. Servirá para ejecutar código una vez que el ciclo allá terminado normalmente:"
      ],
      "metadata": {
        "id": "39fdoJ1D6yId"
      }
    },
    {
      "cell_type": "code",
      "source": [],
      "metadata": {
        "id": "RoZNYls067TJ"
      },
      "execution_count": null,
      "outputs": []
    },
    {
      "cell_type": "markdown",
      "source": [
        "Como el ciclo `while` ejecuta las sentencias en su interior cuando la condición es verdadera, se deberá tener cuidado de no generar ciclos infinitos, a menos que sea requerido por el programa a realizar. El siguiente ejemplo es válido, pero ocasionará que el programa quedé \"colgado\" infinitamente:\n",
        "```\n",
        "while True:\n",
        "  print(\"hola\")\n",
        "```"
      ],
      "metadata": {
        "id": "pRd6tSDV8G__"
      }
    },
    {
      "cell_type": "markdown",
      "source": [
        "## Modificación de ciclos.\n",
        "\n",
        "`Break` permite detener la ejecución del ciclo. Una vez que el interprete encuentre la palabra, el ciclo terminará, sin embargo se puede considerar que es un final forzado.\n",
        "\n",
        "Se puede utilizar tanto con ciclos `for` y `while`. Comúnmente se usa para establecer una condición de parada del ciclo y así evitar consumir ciclos de reloj de la computadora:"
      ],
      "metadata": {
        "id": "-214nBsp9I_P"
      }
    },
    {
      "cell_type": "code",
      "source": [],
      "metadata": {
        "id": "S2clWJf6Gbww"
      },
      "execution_count": null,
      "outputs": []
    },
    {
      "cell_type": "code",
      "source": [
        "\n",
        "  i = 1\n",
        "while i <= 50:\n",
        "    print(i)\n",
        "    i = 3 * i + 1\n",
        "print(\"Programa terminado\")"
      ],
      "metadata": {
        "id": "5412fI7IWiwr",
        "colab": {
          "base_uri": "https://localhost:8080/"
        },
        "outputId": "28272e39-6a52-4ae4-9520-39568b54e003"
      },
      "execution_count": 5,
      "outputs": [
        {
          "output_type": "stream",
          "name": "stdout",
          "text": [
            "1\n",
            "4\n",
            "13\n",
            "40\n",
            "Programa terminado\n"
          ]
        }
      ]
    },
    {
      "cell_type": "markdown",
      "source": [
        "El siguiente ejemplo muestra como un ciclo infinito se puede detener con una condición y un sentencia `break`:"
      ],
      "metadata": {
        "id": "V01ic2svGlTQ"
      }
    },
    {
      "cell_type": "code",
      "source": [
        "i = 1\n",
        "while i <= 10:\n",
        "    print(i, end=\" \")\n",
        "    break\n",
        "    "
      ],
      "metadata": {
        "id": "u085-tTgGvU2",
        "colab": {
          "base_uri": "https://localhost:8080/"
        },
        "outputId": "2dbeed50-0a99-4cf7-9b29-c2f022470d69"
      },
      "execution_count": 10,
      "outputs": [
        {
          "output_type": "stream",
          "name": "stdout",
          "text": [
            "1 "
          ]
        }
      ]
    },
    {
      "cell_type": "markdown",
      "source": [
        "Si `break` se encuentra dentro de ciclos anidados, únicamente detendŕa el ciclo en el que se encuentra:"
      ],
      "metadata": {
        "id": "1TdVnd3KHjQ7"
      }
    },
    {
      "cell_type": "code",
      "source": [
        "for num in range(10):\n",
        "    if num == 5:\n",
        "        print (\"Se cumple la condición que finaliza el bucle \")\n",
        "        break\n",
        "    print(f\" El número actual es {num}\")\n",
        "print(\"Continuamos tras el bucle\")"
      ],
      "metadata": {
        "id": "rJ10913nHqDg",
        "colab": {
          "base_uri": "https://localhost:8080/"
        },
        "outputId": "dd13eba9-0128-40f4-8264-f95a6d077032"
      },
      "execution_count": 8,
      "outputs": [
        {
          "output_type": "stream",
          "name": "stdout",
          "text": [
            " El número actual es 0\n",
            " El número actual es 1\n",
            " El número actual es 2\n",
            " El número actual es 3\n",
            " El número actual es 4\n",
            "Se cumple la condición que finaliza el bucle \n",
            "Continuamos tras el bucle\n"
          ]
        }
      ]
    },
    {
      "cell_type": "markdown",
      "source": [
        "La otra sentencia que permite modificar los ciclos en Python es la palabra reservada `continue`. Ésta permite que dentro de un ciclo se \"salte\" las líneas posteriores a donde se encuentra, haciendo que el ciclo continue su ejecución en la siguiente iteración:"
      ],
      "metadata": {
        "id": "bZVwKZY-I8dd"
      }
    },
    {
      "cell_type": "code",
      "source": [
        "for num in range(10):\n",
        "    if num == 5:\n",
        "        continue\n",
        "    print(f\"El número actual es {num}\")\n",
        "print(\"Continuamos con el bucle\")"
      ],
      "metadata": {
        "id": "nqOnyWCwJ8C4",
        "colab": {
          "base_uri": "https://localhost:8080/"
        },
        "outputId": "0aa9c049-30fe-4f97-dc8e-ebb481c25e86"
      },
      "execution_count": 11,
      "outputs": [
        {
          "output_type": "stream",
          "name": "stdout",
          "text": [
            "El número actual es 0\n",
            "El número actual es 1\n",
            "El número actual es 2\n",
            "El número actual es 3\n",
            "El número actual es 4\n",
            "El número actual es 6\n",
            "El número actual es 7\n",
            "El número actual es 8\n",
            "El número actual es 9\n",
            "Continuamos con el bucle\n"
          ]
        }
      ]
    },
    {
      "cell_type": "markdown",
      "source": [
        "Como se puede observar, si bien se brinco el `print()`, únicamente no lo ejecuta en esa iteración, siendo que en las demás se ejecuta normalmente.\n",
        "\n",
        "Un ejemplo con `while`:"
      ],
      "metadata": {
        "id": "2UdG4xMyKCvr"
      }
    },
    {
      "cell_type": "code",
      "source": [
        "contador = 0\n",
        "limite = 10\n",
        "while contador < limite:\n",
        "    print(contador)\n",
        "    contador += 1"
      ],
      "metadata": {
        "id": "YicB0SL3MXQw",
        "colab": {
          "base_uri": "https://localhost:8080/"
        },
        "outputId": "10e89aea-4551-4ec4-fe93-88c9e5dbf7cb"
      },
      "execution_count": 13,
      "outputs": [
        {
          "output_type": "stream",
          "name": "stdout",
          "text": [
            "0\n",
            "1\n",
            "2\n",
            "3\n",
            "4\n",
            "5\n",
            "6\n",
            "7\n",
            "8\n",
            "9\n"
          ]
        }
      ]
    },
    {
      "cell_type": "markdown",
      "source": [
        "***COMPARTE TUS REFLEXIONES DE LOS TEMAS VISTOS ANTERIORMENTE.***"
      ],
      "metadata": {
        "id": "SG9zH2AYMsnV"
      }
    },
    {
      "cell_type": "markdown",
      "source": [
        "https://www.mclibre.org/consultar/python/lecciones/python-listas.html#listas-recorrer página con muy buen contenido________________________________________________________________________________\n",
        "________________________________________________________________________________\n",
        "________________________________________________________________________________\n",
        "https://www.mclibre.org/consultar/python/\n",
        "\n",
        "https://www.codigopiton.com/\n",
        "________________________________________________________________________________\n"
      ],
      "metadata": {
        "id": "zsdUdF9w-pew"
      }
    }
  ]
}