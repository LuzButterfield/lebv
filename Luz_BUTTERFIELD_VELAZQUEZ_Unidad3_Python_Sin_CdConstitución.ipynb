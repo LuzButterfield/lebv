{
  "nbformat": 4,
  "nbformat_minor": 0,
  "metadata": {
    "colab": {
      "provenance": [],
      "include_colab_link": true
    },
    "kernelspec": {
      "name": "python3",
      "display_name": "Python 3"
    },
    "language_info": {
      "name": "python"
    }
  },
  "cells": [
    {
      "cell_type": "markdown",
      "metadata": {
        "id": "view-in-github",
        "colab_type": "text"
      },
      "source": [
        "<a href=\"https://colab.research.google.com/github/LuzButterfield/lebv/blob/main/Luz_BUTTERFIELD_VELAZQUEZ_Unidad3_Python_Sin_CdConstituci%C3%B3n.ipynb\" target=\"_parent\"><img src=\"https://colab.research.google.com/assets/colab-badge.svg\" alt=\"Open In Colab\"/></a>"
      ]
    },
    {
      "cell_type": "markdown",
      "source": [
        "\n",
        "# ***PROGRAMACIÓN PYTHON***\n",
        "\n",
        "---\n",
        "\n",
        "\n",
        "\n"
      ],
      "metadata": {
        "id": "hvOSDIk18k-O"
      }
    },
    {
      "cell_type": "markdown",
      "source": [
        "# **UNIDAD 3 - Funciones, cadenas y listas.**\n",
        "\n",
        "---\n",
        "## Funciones.\n",
        "\n",
        "Como todos los lenguajes de programación, en Python es posible definir funciones propias para ejecutar código personalizado. Para definirlas es necesario utilizar la palabra reservada `def`. La sintaxis de cualquier función en Python es la siguiente:\n",
        "\n",
        "```\n",
        "def nombre_funcion(parámetros):\n",
        "    código\n",
        "    return retorno\n",
        "```\n",
        "\n",
        "Toda función contiene un **nombre, parámetros** y **valor de retorno** (opcional). Al igual que las variables, no es necesario definir el tipo de dato que retornará la función. Al igual que sucede con las estructuras de slección y los ciclos, ya que se va a comenzar con un nuevo bloque de código, es necsario dejar una identación para que el interpreta reconozca el código subsecuente como parte del cuerpo de la función. El valor de retorno es opcional, sí la función no devuelve nada, se omite.\n",
        "\n",
        "Como ejemplo se va a desarrollar una función sin argumentos que nada más salude al usuario:"
      ],
      "metadata": {
        "id": "ORKz6k_BKrNv"
      }
    },
    {
      "cell_type": "code",
      "source": [],
      "metadata": {
        "id": "uAplf9tu2rl1"
      },
      "execution_count": null,
      "outputs": []
    },
    {
      "cell_type": "markdown",
      "source": [
        "Una llamada a la función, es igual que en otro lenguajes de programación, escribiendo su nombre y los argumentos correspondientes:"
      ],
      "metadata": {
        "id": "nzAHYMlA20VM"
      }
    },
    {
      "cell_type": "code",
      "source": [],
      "metadata": {
        "id": "F7Nhwr422-CS"
      },
      "execution_count": null,
      "outputs": []
    },
    {
      "cell_type": "markdown",
      "source": [
        "## **Pase de argumentos.**\n",
        "\n",
        "Todas las funciones en Python tienen la capacidad de recibir parámetros, que son las variables locales con las que operará la función.\n",
        "\n",
        "En Python, a las funciones se les puede pasar un argumento, argumentos posicionados, por nombre, predetermnados y de longitud variable.\n",
        "\n",
        "### ***Parámetro sencillo.***\n",
        "\n",
        "Modificar la función anterior pero agregando como argumento el nombre de a quien saludará:\n",
        "\n",
        "QUE ES LA SOBRECARGA DE FUNCIONES, SE UTILIZAN VARIAS FUNCIONES A LA VEZ."
      ],
      "metadata": {
        "id": "6mUVOm693GlQ"
      }
    },
    {
      "cell_type": "code",
      "source": [
        "def saludar(nombre):\n",
        "  print(\"hola\",nombre)\n",
        "\n",
        "saludar(\"Luz Elena\")"
      ],
      "metadata": {
        "id": "aIFcYf6J4L-5",
        "colab": {
          "base_uri": "https://localhost:8080/"
        },
        "outputId": "9980d94e-4dd7-413b-a899-ecc3753c71f7"
      },
      "execution_count": null,
      "outputs": [
        {
          "output_type": "stream",
          "name": "stdout",
          "text": [
            "hola Luz Elena\n"
          ]
        }
      ]
    },
    {
      "cell_type": "markdown",
      "source": [
        "En otros lenguajes de programación existe la sobrecarga de funciones ¿Recuerdas qué significa ese término? Consiste en tener varias funciones con el mismo nombre cuya única diferencia es la cantidad y opcionalmente el tipo de argumentos que recibe. Por ejemplo en C++ es válido tener:\n",
        "\n",
        "```\n",
        "#Código C++\n",
        "int suma(int n1, int n2);\n",
        "int suma(float n1, float n2, float n3);\n",
        "```\n",
        "\n",
        "En el ejemplo anterior, el compilador se encargará de llamar a la función correspondiente cuando sea llamada en base a los valores pasados.\n",
        "\n",
        "¿Qué pasa en Python si intentas llamar las dos funciones difinidas anteriormente?\n",
        "\n",
        "PARA HACERLO EN PYTHON, "
      ],
      "metadata": {
        "id": "4mpImYJK4cmF"
      }
    },
    {
      "cell_type": "code",
      "source": [
        "saludar(\"luz Elena\")\n",
        "saludar()"
      ],
      "metadata": {
        "id": "ZaNltLRF6bRf",
        "colab": {
          "base_uri": "https://localhost:8080/",
          "height": 200
        },
        "outputId": "64d13c3c-fd0f-458a-8634-ee20767802d7"
      },
      "execution_count": null,
      "outputs": [
        {
          "output_type": "stream",
          "name": "stdout",
          "text": [
            "hola luz Elena\n"
          ]
        },
        {
          "output_type": "error",
          "ename": "TypeError",
          "evalue": "ignored",
          "traceback": [
            "\u001b[0;31m---------------------------------------------------------------------------\u001b[0m",
            "\u001b[0;31mTypeError\u001b[0m                                 Traceback (most recent call last)",
            "\u001b[0;32m<ipython-input-4-5d7fc55e98aa>\u001b[0m in \u001b[0;36m<module>\u001b[0;34m\u001b[0m\n\u001b[1;32m      1\u001b[0m \u001b[0msaludar\u001b[0m\u001b[0;34m(\u001b[0m\u001b[0;34m\"luz Elena\"\u001b[0m\u001b[0;34m)\u001b[0m\u001b[0;34m\u001b[0m\u001b[0;34m\u001b[0m\u001b[0m\n\u001b[0;32m----> 2\u001b[0;31m \u001b[0msaludar\u001b[0m\u001b[0;34m(\u001b[0m\u001b[0;34m)\u001b[0m\u001b[0;34m\u001b[0m\u001b[0;34m\u001b[0m\u001b[0m\n\u001b[0m",
            "\u001b[0;31mTypeError\u001b[0m: saludar() missing 1 required positional argument: 'nombre'"
          ]
        }
      ]
    },
    {
      "cell_type": "markdown",
      "source": [
        "Eso es debido a que Python no soporta la sobrecarga de funciones, sin embargo proporciona los otros medios de pase de argumentos que servirán para asemejar la funcionalidad descrita, con la ventaja de que el código será más simple y sencillo de leer.\n",
        "\n",
        "### ***Parámetros por posición.***\n",
        "\n",
        "Los parámetros por posición son aquellos que en la firma de la función tiene un orden y que al ser invocada, los datos que se le pasen como argumentos se almacenarán en las variables correspondientes de acuerdo a su posición. Además se exige que la función sea llamada exactamente con la misma cantidad de parámetros con la que fue declarada.\n",
        "\n",
        "EL PASE DE PARAMETROS ES UNA BUENA OPCION PARA MNADAR INFORMACIÓN. \n",
        "paso de parametros por nombre"
      ],
      "metadata": {
        "id": "Fp4a8Vpq6i3c"
      }
    },
    {
      "cell_type": "code",
      "source": [
        "def resta(n1, n2):\n",
        "  return n1- n2\n",
        "\n",
        "res=resta(2,3)\n",
        "print(res) "
      ],
      "metadata": {
        "colab": {
          "base_uri": "https://localhost:8080/"
        },
        "id": "OisUnW7ygMMC",
        "outputId": "77ee5749-c6ca-478b-e2bb-0bfc6f3085c2"
      },
      "execution_count": null,
      "outputs": [
        {
          "output_type": "stream",
          "name": "stdout",
          "text": [
            "-1\n"
          ]
        }
      ]
    },
    {
      "cell_type": "code",
      "source": [],
      "metadata": {
        "id": "_nDjt9skNPMT"
      },
      "execution_count": null,
      "outputs": []
    },
    {
      "cell_type": "markdown",
      "source": [
        "### ***Parámetros por nombre.***\n",
        "\n",
        "En Python es posible utilizar el nombre del parámetro para asignarle un valor, usando este modo, es válido ignorar la posición de los argumentos:"
      ],
      "metadata": {
        "id": "RzhJqHHCNupz"
      }
    },
    {
      "cell_type": "code",
      "source": [
        "print(resta (n2 = 2, n1 = 3))"
      ],
      "metadata": {
        "id": "DWhUUSoVOl5T",
        "colab": {
          "base_uri": "https://localhost:8080/"
        },
        "outputId": "1ef2265c-e062-4194-9fa2-17a623a396f4"
      },
      "execution_count": null,
      "outputs": [
        {
          "output_type": "stream",
          "name": "stdout",
          "text": [
            "1\n"
          ]
        }
      ]
    },
    {
      "cell_type": "markdown",
      "source": [
        "### ***Parámetros con valor predeterminado.***\n",
        "\n",
        "En la firma de una función, es posible declarar un parámetro que tenga un valor de manera predeterminada, esto permitirá que dicho argumento sea opcional al momento de invocar la función, el interprete detectará que no le fue asignado algún valor y por tanto utilizará el valor predeterminado:"
      ],
      "metadata": {
        "id": "BRg4y7hmOvKi"
      }
    },
    {
      "cell_type": "code",
      "source": [
        "def  resta(n1, n2, n3=0):\n",
        "  return n1-n2-n3\n",
        "\n",
        "print(resta(10,5))\n",
        "print(resta(10,5,1))\n",
        "print(resta(n3=10, n1=4, n2=1))"
      ],
      "metadata": {
        "id": "PHiM6rpDQYjL",
        "colab": {
          "base_uri": "https://localhost:8080/"
        },
        "outputId": "e8c9cce5-9910-40aa-d73e-66706a649c41"
      },
      "execution_count": null,
      "outputs": [
        {
          "output_type": "stream",
          "name": "stdout",
          "text": [
            "5\n",
            "4\n",
            "-7\n"
          ]
        }
      ]
    },
    {
      "cell_type": "markdown",
      "source": [
        "### ***Parámetros de longitud variable***.\n",
        "\n",
        "Python permite que el número de argumentos que se le pase a una función pueda ser variable, es decir que la función pueda recibir n cantidad de datos como argumentos. Para indicar al interprete que el argumento será de longitud variable, es necesario anteponer un asterisco (*) antes del nombre del parámetro. AL hacerlo, automáticamente el interprete covierte el parámetro en una tupla:"
      ],
      "metadata": {
        "id": "Jrmgg1kNRBmS"
      }
    },
    {
      "cell_type": "code",
      "source": [
        "def resta(*nums):\n",
        "  print(type(nums))\n",
        "\n",
        "  res=0\n",
        "  for n in nums:\n",
        "    res -=n\n",
        "  \n",
        "  return res\n",
        "\n",
        "print(resta())\n",
        "print(resta(1))\n",
        "print(resta(2,3))\n",
        "print(resta(4,5,6,7,8,9))\n",
        "print(resta(4,5,6,7,805,999))"
      ],
      "metadata": {
        "id": "2d1lG03iWTOl",
        "colab": {
          "base_uri": "https://localhost:8080/"
        },
        "outputId": "1f40cfdd-da7b-491f-aa1f-75a00f46de5c"
      },
      "execution_count": null,
      "outputs": [
        {
          "output_type": "stream",
          "name": "stdout",
          "text": [
            "<class 'tuple'>\n",
            "0\n",
            "<class 'tuple'>\n",
            "-1\n",
            "<class 'tuple'>\n",
            "-5\n",
            "<class 'tuple'>\n",
            "-39\n",
            "<class 'tuple'>\n",
            "-1826\n"
          ]
        }
      ]
    },
    {
      "cell_type": "markdown",
      "source": [
        "Si agregamos dos asteriscos (**), es posible pasarle como parámetro los datos en forma de *clave = valor*, o bien, diorectamente un diccionario. Para obtener los datos, se utilizará ```items()```:"
      ],
      "metadata": {
        "id": "I3YlNswnX7ZF"
      }
    },
    {
      "cell_type": "code",
      "source": [
        "def resta(**nums):\n",
        "  print(type(nums))\n",
        "\n",
        "  res=0\n",
        "  for clave, valor in nums.items():\n",
        "    res-=valor\n",
        "\n",
        "  return res\n",
        "\n",
        "print(resta(entero = 10, flotante=5.5, imaginario= 3+8))\n",
        "\n",
        "calc =  {\"ent\" :6, \"float\": 56.3, \"img\": 2.7} \n",
        "print(resta(**calc8))"
      ],
      "metadata": {
        "id": "C5q1RTS6YZf5",
        "colab": {
          "base_uri": "https://localhost:8080/"
        },
        "outputId": "83a18395-ebce-4347-c773-8854356c7efc"
      },
      "execution_count": null,
      "outputs": [
        {
          "output_type": "stream",
          "name": "stdout",
          "text": [
            "<class 'dict'>\n",
            "-26.5\n",
            "<class 'dict'>\n",
            "-65.0\n"
          ]
        }
      ]
    },
    {
      "cell_type": "markdown",
      "source": [
        "# **Operaciones con cadenas y formateo**.\n",
        "\n",
        "Como se mencionó en lecciones anteriores, las cadenas son secuencias de caracteres y son inmutables. no tiene un tamaño en memoria predeterminado y para declararlas, es necesario colocar el texto entre comillas dobles o sencillas.\n",
        "\n",
        "Dentro de ellas es posible usar secuencias de escape pero también existen las conocidas como *raw strings* que ignoran dichas secuencias:"
      ],
      "metadata": {
        "id": "g0TZADvnbzXK"
      }
    },
    {
      "cell_type": "markdown",
      "source": [
        "Las cadens se pueden concatenar usando el operador \"+\", sin importar la cantidad:"
      ],
      "metadata": {
        "id": "2VV9xaKu2VwH"
      }
    },
    {
      "cell_type": "code",
      "source": [
        "lista1=[1,2,3,4,5]\n",
        "lista2=list(\"6789\")\n",
        "\n",
        "print(lista1)\n",
        "print(lista2)\n",
        "lista3=lista1+lista2\n",
        "print(lista3)"
      ],
      "metadata": {
        "id": "8FSUu2ba2avX",
        "colab": {
          "base_uri": "https://localhost:8080/"
        },
        "outputId": "e15bf541-33b9-4b20-c191-537cac452693"
      },
      "execution_count": null,
      "outputs": [
        {
          "output_type": "stream",
          "name": "stdout",
          "text": [
            "[1, 2, 3, 4, 5]\n",
            "['6', '7', '8', '9']\n",
            "[1, 2, 3, 4, 5, '6', '7', '8', '9']\n"
          ]
        }
      ]
    },
    {
      "cell_type": "markdown",
      "source": [
        "Con la función `format()` es posible agregar variables a una cadena, acomodándolas por posición o mediante su nombre:"
      ],
      "metadata": {
        "id": "COkNhAiI28XJ"
      }
    },
    {
      "cell_type": "code",
      "source": [
        "lista1=[1,2,3,4,5]\n",
        "lista2=list(\"6789\")\n",
        "\n",
        "print(lista1)\n",
        "print(lista2)\n",
        "lista3=[1,\"Hola\", 3.14, [1,2,3]]\n",
        "print(lista3)"
      ],
      "metadata": {
        "id": "cr1ZjIoF3SDl",
        "colab": {
          "base_uri": "https://localhost:8080/"
        },
        "outputId": "e0c25f07-ffb9-4fef-85c0-ce6d93fe0294"
      },
      "execution_count": null,
      "outputs": [
        {
          "output_type": "stream",
          "name": "stdout",
          "text": [
            "[1, 2, 3, 4, 5]\n",
            "['6', '7', '8', '9']\n",
            "[1, 'Hola', 3.14, [1, 2, 3]]\n"
          ]
        }
      ]
    },
    {
      "cell_type": "markdown",
      "source": [
        "Las `f-strings()` permiten utilizar variables dentro de las cadenas como los ejemplos anteriores pero además agrega la posibilidad de realizar operaciones dentro de ellas e incluso invocar a una función:"
      ],
      "metadata": {
        "id": "5mgohzdN4KNJ"
      }
    },
    {
      "cell_type": "code",
      "source": [
        "course = 'Python'\n",
        "platform = 'Platzi'\n",
        "\n",
        "print(f\"El nuevo curso de {course} en {platform} está increíble\")\n"
      ],
      "metadata": {
        "id": "FLQDtaK34eRs",
        "colab": {
          "base_uri": "https://localhost:8080/"
        },
        "outputId": "56501120-ea2f-4068-8367-eccbe3a3b577"
      },
      "execution_count": null,
      "outputs": [
        {
          "output_type": "stream",
          "name": "stdout",
          "text": [
            "El nuevo curso de Python en Platzi está increíble\n"
          ]
        }
      ]
    },
    {
      "cell_type": "markdown",
      "source": [
        "Con las cadenas es posible realizar:\n",
        "\n",
        "*   Multiplicación de una cadena por un número entero.\n",
        "*   Buscar si una cadena está contenida en otra.\n",
        "*   Convertir una cadena a su valor numérico y viceversa (este último caso sólo funciona con caráctres).\n",
        "*   Obtener el tamaño de una cadena.\n",
        "*   Conversión de clases.\n",
        "*   Indizarlas.\n",
        "*   Segmentar cadenas.\n",
        "\n",
        "\n",
        "\n"
      ],
      "metadata": {
        "id": "-EfHQdh67Aei"
      }
    },
    {
      "cell_type": "code",
      "source": [
        "mensaje2a = 'Hola ' * 3\n",
        "mensaje2b = 'Mundo'\n",
        "print(mensaje2a + mensaje2b)\n"
      ],
      "metadata": {
        "id": "u8EX6wDJ7yp_",
        "colab": {
          "base_uri": "https://localhost:8080/"
        },
        "outputId": "73673f30-dece-448e-d9c1-16364a2608e2"
      },
      "execution_count": null,
      "outputs": [
        {
          "output_type": "stream",
          "name": "stdout",
          "text": [
            "Hola Hola Hola Mundo\n"
          ]
        }
      ]
    },
    {
      "cell_type": "markdown",
      "source": [
        "Las cadenas en Python son una clase muy poderosa en Python y la cual dispone de numerosos métodos que incrementan la flexibilidad, uso y operaciones con este tipo de objeto. Para conocer los métodos e incluso más formas de formateo de cadenas, consulta la [documentación oficial](https://docs.python.org/3/library/stdtypes.html#string-methods)."
      ],
      "metadata": {
        "id": "RZfNqegOSbcq"
      }
    },
    {
      "cell_type": "markdown",
      "source": [
        "# **Operaciones con listas.**\n",
        "\n",
        "Algunas propiedades de las listas:\n",
        "\n",
        "*   Son ordenadas.\n",
        "*   Pueden contener distintos tipos de datos.\n",
        "*   Son iterables.\n",
        "*   Son mutables.\n",
        "*   Son dinámicas.\n",
        "\n",
        "Para acceder a los elementos de una lista, se utilizan los corchetes `[n]`, donde `n` es el índice del elemento al que queremos acceder. El tamaño de la lista va desde 0 hasta n - 1.\n"
      ],
      "metadata": {
        "id": "Y6vL-vdEHuuX"
      }
    },
    {
      "cell_type": "code",
      "source": [
        "mensaje5 = \"Hola Mundo\"\n",
        "mensaje5a = mensaje5.find(\"Mundo\")\n",
        "print(mensaje5a)"
      ],
      "metadata": {
        "id": "U_zK8stuJKOg",
        "colab": {
          "base_uri": "https://localhost:8080/"
        },
        "outputId": "ab308051-0c95-4b9f-c98f-e7d1bf098112"
      },
      "execution_count": null,
      "outputs": [
        {
          "output_type": "stream",
          "name": "stdout",
          "text": [
            "5\n"
          ]
        }
      ]
    },
    {
      "cell_type": "markdown",
      "source": [
        "Se puede recorres la lista del final hacía el principio utlizando numeros negativos, donde -1 es el úlitmo elemento, -2, el penúlitmo, etc.:"
      ],
      "metadata": {
        "id": "a72S9jVgJh9O"
      }
    },
    {
      "cell_type": "code",
      "source": [
        "mensaje6 = \"Hola Mundo\"\n",
        "mensaje6a = mensaje6.find(\"ardilla\")\n",
        "print(mensaje6a)"
      ],
      "metadata": {
        "id": "65Uw7723JwcV",
        "colab": {
          "base_uri": "https://localhost:8080/"
        },
        "outputId": "2fb6bedc-3740-45ec-ecc7-e0aa0c2132f6"
      },
      "execution_count": null,
      "outputs": [
        {
          "output_type": "stream",
          "name": "stdout",
          "text": [
            "-1\n"
          ]
        }
      ]
    },
    {
      "cell_type": "markdown",
      "source": [
        "Para modificar un elemento de la lista, tan sólo es necesario asignar el nuevo valor al elemento correspondiente:"
      ],
      "metadata": {
        "id": "3MkC_jBOJ7BH"
      }
    },
    {
      "cell_type": "code",
      "source": [
        "mensaje4 = 'hola' + ' ' + 'mundo'\n",
        "print(len(mensaje4))"
      ],
      "metadata": {
        "id": "HII7HkoLKeer",
        "colab": {
          "base_uri": "https://localhost:8080/"
        },
        "outputId": "9da05ff3-692d-4e51-bec2-f47ebbf8dfb7"
      },
      "execution_count": null,
      "outputs": [
        {
          "output_type": "stream",
          "name": "stdout",
          "text": [
            "10\n"
          ]
        }
      ]
    },
    {
      "cell_type": "markdown",
      "source": [
        "Para eliminar un elemento de la lista mediante su índice, se utiliza `del`:"
      ],
      "metadata": {
        "id": "YlfnsGV2Kqsy"
      }
    },
    {
      "cell_type": "code",
      "source": [
        "nombres_masculinos=['Ricky', 'Alvaro', 'David', 'Edgardo', 'Jacinto', 'Jose', 'Ricky', 'Jose', 'Jose']\n",
        "nombres_masculinos.pop() \n",
        "\n",
        "print(nombres_masculinos)  \n",
        "print(nombres_masculinos.pop() )"
      ],
      "metadata": {
        "id": "ytYksPsGLBnv",
        "colab": {
          "base_uri": "https://localhost:8080/"
        },
        "outputId": "66708886-7c9e-42f9-de23-1d4d84b11341"
      },
      "execution_count": null,
      "outputs": [
        {
          "output_type": "stream",
          "name": "stdout",
          "text": [
            "['Ricky', 'Alvaro', 'David', 'Edgardo', 'Jacinto', 'Jose', 'Ricky', 'Jose']\n",
            "Jose\n"
          ]
        }
      ]
    },
    {
      "cell_type": "markdown",
      "source": [
        "Si se desea acceder a los elementos que forman parte de una lista que está dentro de una lista, se agregan tantos corchetes con su respectivo índice como listas internas se tengan:"
      ],
      "metadata": {
        "id": "f9fzrUOWLJne"
      }
    },
    {
      "cell_type": "code",
      "source": [
        "lista=[1,2]\n",
        "num = lista[1]\n",
        "print (num)"
      ],
      "metadata": {
        "id": "UrIHO65SLaRC",
        "colab": {
          "base_uri": "https://localhost:8080/"
        },
        "outputId": "0d9755cc-2c74-4ea5-f999-c63e90f20253"
      },
      "execution_count": null,
      "outputs": [
        {
          "output_type": "stream",
          "name": "stdout",
          "text": [
            "2\n"
          ]
        }
      ]
    },
    {
      "cell_type": "markdown",
      "source": [
        "También con las listas, utilizando la sintaxis de `[n:m]` se pueden obtener sublistas y modificar multiples valores. Además las listas soportan el operador `+` que añade una lista a la otra y por otro lado, con una lista es posible asignar sus *n* elementos a n* *cantidad de variables independientes:"
      ],
      "metadata": {
        "id": "wE0ZbM1TLpW-"
      }
    },
    {
      "cell_type": "code",
      "source": [
        " dias = [\"Lunes\", \"Martes\", \"Miércoles\", \"Jueves\", \"Viernes\", \"Sábado\", \"Domingo\"]\n",
        "dias[1:4] # Se extrae una lista con los valores 1, 2 y 3\n",
        "['Martes', 'Miércoles', 'Jueves']\n",
        "print(dias[4:5]) # Se extrae una lista con el valor 4\n",
        "['Viernes']\n",
        "print(dias[4:4]) # Se extrae una lista vacía\n",
        "[]\n",
        "print(dias[:4] ) # Se extrae una lista hasta el valor 4 (no incluido)\n",
        "['Lunes', 'Martes', 'Miércoles', 'Jueves']\n",
        "print(dias[4:])  # Se extrae una lista desde el valor 4 (incluido)\n",
        "['Viernes', 'Sábado', 'Domingo']\n",
        "print(dias[:] )  # Se extrae una lista con todos los valores\n",
        "['Lunes', 'Martes', 'Miércoles', 'Jueves', 'Viernes', 'Sábado', 'Domingo']"
      ],
      "metadata": {
        "id": "fU38WQILMXHZ",
        "colab": {
          "base_uri": "https://localhost:8080/"
        },
        "outputId": "f16aaf92-d2b9-4f0d-a792-254e14d4edec"
      },
      "execution_count": null,
      "outputs": [
        {
          "output_type": "stream",
          "name": "stdout",
          "text": [
            "['Viernes']\n",
            "[]\n",
            "['Lunes', 'Martes', 'Miércoles', 'Jueves']\n",
            "['Viernes', 'Sábado', 'Domingo']\n",
            "['Lunes', 'Martes', 'Miércoles', 'Jueves', 'Viernes', 'Sábado', 'Domingo']\n"
          ]
        },
        {
          "output_type": "execute_result",
          "data": {
            "text/plain": [
              "['Lunes', 'Martes', 'Miércoles', 'Jueves', 'Viernes', 'Sábado', 'Domingo']"
            ]
          },
          "metadata": {},
          "execution_count": 6
        }
      ]
    },
    {
      "cell_type": "markdown",
      "source": [
        "También es posible iterar sobre las listas utilizando ciclos para acceder a sus elementos, acompañarlos con su índice e incluso iterar varias listas al mismo tiempo:"
      ],
      "metadata": {
        "id": "zdbZ102kNydH"
      }
    },
    {
      "cell_type": "code",
      "source": [
        "letras = [\"A\", \"B\", \"C\"]\n",
        "for i in letras:\n",
        "    print(i, end=\" \")"
      ],
      "metadata": {
        "id": "Iivv91rjOFLI",
        "colab": {
          "base_uri": "https://localhost:8080/"
        },
        "outputId": "88bb6b3b-9ca0-41fc-d3c1-0cfb973038a7"
      },
      "execution_count": null,
      "outputs": [
        {
          "output_type": "stream",
          "name": "stdout",
          "text": [
            "A B C "
          ]
        }
      ]
    },
    {
      "cell_type": "markdown",
      "source": [
        "**NOTA:** La función `zip()` crea un objeto *Zip* el cual es un iterador de tuplas donde cada elemento que se le pase como argumento, es emparejado con el del otro parámetro respetando posición en la que se encuentran.\n",
        "\n",
        "Además de las operaciones básicas anteriores, las listas tiene sus propios métodos que también realizan operaciones sobre ellas:\n",
        "\n",
        "\n",
        "*  list.append(x)\n",
        "*  list.extend(iterable)\n",
        "*  list.insert(i, x)\n",
        "*  list.remove(x)\n",
        "*  list.pop([i])\n",
        "*  list.clear()\n",
        "*  list.index(x[, start[, end]])\n",
        "*  list.count(x)\n",
        "*  list.sort(*, key=None, reverse=False)\n",
        "*  list.reverse()\n",
        "*  list.copy()\n",
        "\n",
        "Para conocer la manera correcta de utilzar los métodos anteriores, revisa la  [documentación oficial de Python sobre listas.](https://docs.python.org/3/tutorial/datastructures.html)\n",
        "\n",
        "## ***Ejercicio:***\n",
        "\n",
        "Después de haber revisado la documentación oficial, en el siguiente apartado añade ejemplos (al menos uno por cada método), del uso de dichas funciones, puedes utlilzar las listas creadas aterioremente o bien definir las propias, sé claro y documenta el código que realices:"
      ],
      "metadata": {
        "id": "C830BXNJPpAg"
      }
    },
    {
      "cell_type": "code",
      "source": [
        "frutas = ['apple', 'banana', 'cherry']\n",
        "frutas.append(\"orange\")\n",
        "print(frutas)\n",
        "\n",
        "frutas = ['apple', 'banana', 'cherry']\n",
        "cars = ['Ford', 'BMW', 'Volvo']\n",
        "frutas.extend(cars)\n",
        "\n",
        "print(frutas)\n",
        "\n",
        "frutas = ['apple', 'banana', 'cherry']\n",
        "\n",
        "frutas.insert(1, \"orange\")\n",
        "print (frutas)\n",
        "\n",
        "frutas = ['apple', 'banana', 'cherry']\n",
        "\n",
        "frutas.remove(\"banana\")\n",
        "frutas = ['apple', 'banana', 'cherry']\n",
        "\n",
        "frutas.remove(\"banana\")\n",
        "print(frutas)\n",
        "\n",
        "frutas = ['apple', 'banana', 'cherry']\n",
        "\n",
        "frutas.pop(1)\n",
        "\n",
        "print(frutas)\n",
        "\n",
        "frutas = ['apple', 'banana', 'cherry', 'orange']\n",
        "frutas.clear()\n",
        "\n",
        "frutas = ['apple', 'banana', 'cherry']\n",
        "x = frutas.index(\"cherry\")\n",
        "print(x)\n",
        "\n",
        "frutas = ['apple', 'banana', 'cherry']\n",
        "x = frutas.count(\"cherry\")\n",
        "print(x)\n",
        "\n",
        "cars = ['Ford', 'BMW', 'Volvo']\n",
        "cars.sort()\n",
        "print(cars)\n",
        "\n",
        "frutas = ['apple', 'banana', 'cherry']\n",
        "frutas.reverse()\n",
        "print(frutas)\n",
        "\n",
        "frutas = ['apple', 'banana', 'cherry', 'orange']\n",
        "x = frutas.copy()\n",
        "print(x)"
      ],
      "metadata": {
        "colab": {
          "base_uri": "https://localhost:8080/"
        },
        "id": "4rKXfAqxwUkR",
        "outputId": "2f5d88e6-e835-4be9-bfed-c945c2a054bd"
      },
      "execution_count": null,
      "outputs": [
        {
          "output_type": "stream",
          "name": "stdout",
          "text": [
            "['apple', 'banana', 'cherry', 'orange']\n",
            "['apple', 'banana', 'cherry', 'Ford', 'BMW', 'Volvo']\n",
            "['apple', 'orange', 'banana', 'cherry']\n",
            "['apple', 'cherry']\n",
            "['apple', 'cherry']\n",
            "2\n",
            "1\n",
            "['BMW', 'Ford', 'Volvo']\n",
            "['cherry', 'banana', 'apple']\n",
            "['apple', 'banana', 'cherry', 'orange']\n"
          ]
        }
      ]
    },
    {
      "cell_type": "code",
      "source": [
        "#Añade ejemplos del uso de los métodos de las listas."
      ],
      "metadata": {
        "id": "TrR8t6b-SJK8"
      },
      "execution_count": null,
      "outputs": []
    },
    {
      "cell_type": "markdown",
      "source": [
        "***ANOTA Y COMPARTE TUS REFLEXIONES DE LOS TEMAS VISTOS ANTERIORMENTE:***\n",
        "______________________________________________________________________________https://www.w3schools.com/python/trypython.asp?filename=demo_ref_list_extend en esta página eambién existe muchos ejemplos\n",
        "_______________________________________________________________________________\n",
        "_______________________________________________________________________________\n",
        "____________https://www.w3schools.com/python/ref_list_reverse.asp excelente página___________________________________________________________________\n",
        "_______________________________________________________________________________https://docs.python.org/3/tutorial/datastructures.html otra página con mucho contenido útil"
      ],
      "metadata": {
        "id": "SG9zH2AYMsnV"
      }
    },
    {
      "cell_type": "markdown",
      "source": [],
      "metadata": {
        "id": "zsdUdF9w-pew"
      }
    }
  ]
}